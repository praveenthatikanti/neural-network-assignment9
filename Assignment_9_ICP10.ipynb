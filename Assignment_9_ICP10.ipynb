{
  "cells": [
    {
      "cell_type": "code",
      "execution_count": null,
      "metadata": {
        "id": "EiekdyJr7-Ye"
      },
      "outputs": [],
      "source": [
        "import pandas as pd #Basic packages for creating dataframes and loading dataset\n",
        "import numpy as np\n",
        "\n",
        "import matplotlib.pyplot as plt #Package for visualization\n",
        "\n",
        "import re #importing package for Regular expression operations\n",
        "\n",
        "from sklearn.model_selection import train_test_split #Package for splitting the data\n",
        "\n",
        "from sklearn.preprocessing import LabelEncoder #Package for conversion of categorical to Numerical\n",
        "\n",
        "from keras.preprocessing.text import Tokenizer #Tokenization\n",
        "from tensorflow.keras.preprocessing.sequence import pad_sequences #Add zeros or crop based on the length\n",
        "from keras.models import Sequential #Sequential Neural Network\n",
        "from keras.layers import Dense, Embedding, LSTM, SpatialDropout1D #For layers in Neural Network"
      ]
    },
    {
      "cell_type": "code",
      "execution_count": null,
      "metadata": {
        "colab": {
          "base_uri": "https://localhost:8080/"
        },
        "id": "c6xMWoXO8Xa2",
        "outputId": "7d09c7ea-20a4-48f3-c641-6f1a20f44c94"
      },
      "outputs": [
        {
          "name": "stdout",
          "output_type": "stream",
          "text": [
            "Drive already mounted at /content/gdrive; to attempt to forcibly remount, call drive.mount(\"/content/gdrive\", force_remount=True).\n"
          ]
        }
      ],
      "source": [
        "from google.colab import driveg\n",
        "drive.mount('/content/gdrive')g"
      ]
    },
    {
      "cell_type": "code",
      "execution_count": null,
      "metadata": {
        "colab": {
          "base_uri": "https://localhost:8080/"
        },
        "id": "AmJqGetX8glx",
        "outputId": "c94ee948-8748-48f5-9c71-46eb04e56572"
      },
      "outputs": [
        {
          "name": "stderr",
          "output_type": "stream",
          "text": [
            "<ipython-input-11-f239a47fb009>:12: SettingWithCopyWarning: \n",
            "A value is trying to be set on a copy of a slice from a DataFrame.\n",
            "Try using .loc[row_indexer,col_indexer] = value instead\n",
            "\n",
            "See the caveats in the documentation: https://pandas.pydata.org/pandas-docs/stable/user_guide/indexing.html#returning-a-view-versus-a-copy\n",
            "  data['text'] = data['text'].apply(lambda x: x.lower())\n",
            "<ipython-input-11-f239a47fb009>:13: SettingWithCopyWarning: \n",
            "A value is trying to be set on a copy of a slice from a DataFrame.\n",
            "Try using .loc[row_indexer,col_indexer] = value instead\n",
            "\n",
            "See the caveats in the documentation: https://pandas.pydata.org/pandas-docs/stable/user_guide/indexing.html#returning-a-view-versus-a-copy\n",
            "  data['text'] = data['text'].apply((lambda x: re.sub('[^a-zA-z0-9\\s]', '', x)))\n"
          ]
        }
      ],
      "source": [
        "import pandas as pd\n",
        "\n",
        "# Load the dataset as a Pandas DataFrame\n",
        "dataset = pd.read_csv(\"/content/Sentiment.csv\", header=0)\n",
        "\n",
        "# Select only the necessary columns 'text' and 'sentiment'\n",
        "mask = dataset.columns.isin(['text', 'sentiment'])\n",
        "data = dataset.loc[:, mask]\n",
        "\n",
        "# Keeping only the necessary columns\n",
        "\n",
        "data['text'] = data['text'].apply(lambda x: x.lower())\n",
        "data['text'] = data['text'].apply((lambda x: re.sub('[^a-zA-z0-9\\s]', '', x)))"
      ]
    },
    {
      "cell_type": "code",
      "execution_count": null,
      "metadata": {
        "id": "J5xk0Dyi9gpn"
      },
      "outputs": [],
      "source": [
        "for idx, row in data.iterrows():\n",
        "    row[0] = row[0].replace('rt', ' ') #Removing Retweets"
      ]
    },
    {
      "cell_type": "code",
      "execution_count": null,
      "metadata": {
        "id": "g8Ii41K39x6z"
      },
      "outputs": [],
      "source": [
        "max_fatures = 2000\n",
        "tokenizer = Tokenizer(num_words=max_fatures, split=' ') #Maximum words is 2000 to tokenize sentence\n",
        "tokenizer.fit_on_texts(data['text'].values)\n",
        "X = tokenizer.texts_to_sequences(data['text'].values) #taking values to feature matrix"
      ]
    },
    {
      "cell_type": "code",
      "execution_count": null,
      "metadata": {
        "id": "Oxn-pVxW92iW"
      },
      "outputs": [],
      "source": [
        "X = pad_sequences(X) #Padding the feature matrix\n",
        "\n",
        "embed_dim = 128 #Dimension of the Embedded layer\n",
        "lstm_out = 196 #Long short-term memory (LSTM) layer neurons"
      ]
    },
    {
      "cell_type": "code",
      "execution_count": null,
      "metadata": {
        "id": "R74JUOWN931L"
      },
      "outputs": [],
      "source": [
        "def createmodel():\n",
        "    model = Sequential() #Sequential Neural Network\n",
        "    model.add(Embedding(max_fatures, embed_dim,input_length = X.shape[1])) #input dimension 2000 Neurons, output dimension 128 Neurons\n",
        "    model.add(LSTM(lstm_out, dropout=0.2, recurrent_dropout=0.2)) #Drop out 20%, 196 output Neurons, recurrent dropout 20%\n",
        "    model.add(Dense(3,activation='softmax')) #3 output neurons[positive, Neutral, Negative], softmax as activation\n",
        "    model.compile(loss = 'categorical_crossentropy', optimizer='adam',metrics = ['accuracy']) #Compiling the model\n",
        "    return model\n",
        "#print(model.summary())"
      ]
    },
    {
      "cell_type": "code",
      "execution_count": null,
      "metadata": {
        "id": "J8MiT4Xi9_E5"
      },
      "outputs": [],
      "source": [
        "from keras.utils import to_categorical\n",
        "\n",
        "labelencoder = LabelEncoder() #Applying label Encoding on the label matrix\n",
        "integer_encoded = labelencoder.fit_transform(data['sentiment']) #fitting the model\n",
        "y = to_categorical(integer_encoded)\n",
        "X_train, X_test, Y_train, Y_test = train_test_split(X,y, test_size = 0.33, random_state = 42) #67% training data, 33% test data split"
      ]
    },
    {
      "cell_type": "code",
      "execution_count": null,
      "metadata": {
        "colab": {
          "base_uri": "https://localhost:8080/"
        },
        "id": "5Fd-bCZ0-ILZ",
        "outputId": "8afaeed3-b9f3-429a-8516-bcbce59516ec"
      },
      "outputs": [
        {
          "name": "stdout",
          "output_type": "stream",
          "text": [
            "291/291 - 50s - loss: 0.8267 - accuracy: 0.6415 - 50s/epoch - 171ms/step\n",
            "144/144 - 5s - loss: 0.7552 - accuracy: 0.6754 - 5s/epoch - 34ms/step\n",
            "0.7552027702331543\n",
            "0.6754041314125061\n"
          ]
        }
      ],
      "source": [
        "batch_size = 32 #Batch size 32\n",
        "model = createmodel() #Function call to Sequential Neural Network\n",
        "model.fit(X_train, Y_train, epochs = 1, batch_size=batch_size, verbose = 2) #verbose the higher, the more messages\n",
        "score,acc = model.evaluate(X_test,Y_test,verbose=2,batch_size=batch_size) #evaluating the model\n",
        "print(score)\n",
        "print(acc)"
      ]
    },
    {
      "cell_type": "code",
      "execution_count": null,
      "metadata": {
        "colab": {
          "base_uri": "https://localhost:8080/"
        },
        "id": "CM9qNylI-LaE",
        "outputId": "ac0023e2-a42a-449e-ce8e-d045b0f5250e"
      },
      "outputs": [
        {
          "name": "stdout",
          "output_type": "stream",
          "text": [
            "['loss', 'accuracy']\n"
          ]
        }
      ],
      "source": [
        "print(model.metrics_names) #metrics of the model"
      ]
    },
    {
      "cell_type": "markdown",
      "metadata": {
        "id": "BopWvafP-j6Z"
      },
      "source": [
        "**1. Save the model and use the saved model to predict on new text data (ex, “A lot of good things are happening. We are respected again throughout the world, and that's a great thing.@realDonaldTrump”)**"
      ]
    },
    {
      "cell_type": "code",
      "execution_count": null,
      "metadata": {
        "id": "QtLapeNh-qg2"
      },
      "outputs": [],
      "source": [
        "model.save('sentimentAnalysis.h5') #Saving the model"
      ]
    },
    {
      "cell_type": "code",
      "execution_count": null,
      "metadata": {
        "id": "wlGoFc3y-s8-"
      },
      "outputs": [],
      "source": [
        "from keras.models import load_model #Importing the package for importing the saved model\n",
        "model= load_model('sentimentAnalysis.h5') #loading the saved model"
      ]
    },
    {
      "cell_type": "code",
      "execution_count": null,
      "metadata": {
        "colab": {
          "base_uri": "https://localhost:8080/"
        },
        "id": "i1zW2zWO-vYq",
        "outputId": "6f66fb9d-10c7-4655-b38e-81970723824a"
      },
      "outputs": [
        {
          "name": "stdout",
          "output_type": "stream",
          "text": [
            "[1 2 1 ... 2 0 2]\n",
            "0         Neutral\n",
            "1        Positive\n",
            "2         Neutral\n",
            "3        Positive\n",
            "4        Positive\n",
            "           ...   \n",
            "13866    Negative\n",
            "13867    Positive\n",
            "13868    Positive\n",
            "13869    Negative\n",
            "13870    Positive\n",
            "Name: sentiment, Length: 13871, dtype: object\n"
          ]
        }
      ],
      "source": [
        "print(integer_encoded)\n",
        "print(data['sentiment'])"
      ]
    },
    {
      "cell_type": "code",
      "execution_count": null,
      "metadata": {
        "colab": {
          "base_uri": "https://localhost:8080/"
        },
        "id": "QDG38xIn-xkv",
        "outputId": "81bcb048-e31c-4bff-fee0-7c33ed0e88a0"
      },
      "outputs": [
        {
          "name": "stdout",
          "output_type": "stream",
          "text": [
            "1/1 - 0s - 351ms/epoch - 351ms/step\n",
            "[0.7807761  0.12175453 0.09746941]\n",
            "Neutral\n"
          ]
        }
      ],
      "source": [
        "# Predicting on the text data\n",
        "sentence = ['A lot of good things are happening. We are respected again throughout the world, and that is a great thing.@realDonaldTrump']\n",
        "sentence = tokenizer.texts_to_sequences(sentence) # Tokenizing the sentence\n",
        "sentence = pad_sequences(sentence, maxlen=28, dtype='int32', value=0) # Padding the sentence\n",
        "sentiment_probs = model.predict(sentence, batch_size=1, verbose=2)[0] # Predicting the sentence text\n",
        "sentiment = np.argmax(sentiment_probs)\n",
        "\n",
        "print(sentiment_probs)\n",
        "if sentiment == 0:\n",
        "    print(\"Neutral\")\n",
        "elif sentiment < 0:\n",
        "    print(\"Negative\")\n",
        "elif sentiment > 0:\n",
        "    print(\"Positive\")\n",
        "else:\n",
        "    print(\"Cannot be determined\")"
      ]
    },
    {
      "cell_type": "markdown",
      "metadata": {
        "id": "-b19xsNv-3KH"
      },
      "source": [
        "**2. Apply GridSearchCV on the source code provided in the class**"
      ]
    },
    {
      "cell_type": "code",
      "execution_count": null,
      "metadata": {
        "colab": {
          "background_save": true,
          "base_uri": "https://localhost:8080/"
        },
        "id": "pUv2Ztmf-0R6",
        "outputId": "d4a789d3-9dfd-4a52-fa9d-d3ee702dbf71"
      },
      "outputs": [
        {
          "name": "stderr",
          "output_type": "stream",
          "text": [
            "<ipython-input-29-6c99b49150f4>:4: DeprecationWarning: KerasClassifier is deprecated, use Sci-Keras (https://github.com/adriangb/scikeras) instead. See https://www.adriangb.com/scikeras/stable/migration.html for help migrating.\n",
            "  model = KerasClassifier(build_fn=createmodel,verbose=2) #initiating model to test performance by applying multiple hyper parameters\n"
          ]
        },
        {
          "name": "stdout",
          "output_type": "stream",
          "text": [
            "744/744 - 99s - loss: 0.8254 - accuracy: 0.6437 - 99s/epoch - 134ms/step\n",
            "186/186 - 3s - loss: 0.7433 - accuracy: 0.6729 - 3s/epoch - 15ms/step\n",
            "744/744 - 106s - loss: 0.8250 - accuracy: 0.6447 - 106s/epoch - 143ms/step\n",
            "186/186 - 3s - loss: 0.7526 - accuracy: 0.6853 - 3s/epoch - 15ms/step\n",
            "744/744 - 101s - loss: 0.8299 - accuracy: 0.6425 - 101s/epoch - 136ms/step\n",
            "186/186 - 4s - loss: 0.7734 - accuracy: 0.6697 - 4s/epoch - 20ms/step\n",
            "744/744 - 97s - loss: 0.8318 - accuracy: 0.6410 - 97s/epoch - 131ms/step\n",
            "186/186 - 4s - loss: 0.7509 - accuracy: 0.6787 - 4s/epoch - 21ms/step\n",
            "744/744 - 98s - loss: 0.8214 - accuracy: 0.6445 - 98s/epoch - 131ms/step\n",
            "186/186 - 5s - loss: 0.8135 - accuracy: 0.6507 - 5s/epoch - 25ms/step\n",
            "Epoch 1/2\n",
            "744/744 - 98s - loss: 0.8252 - accuracy: 0.6484 - 98s/epoch - 132ms/step\n",
            "Epoch 2/2\n",
            "744/744 - 96s - loss: 0.6790 - accuracy: 0.7103 - 96s/epoch - 129ms/step\n",
            "186/186 - 3s - loss: 0.7378 - accuracy: 0.6848 - 3s/epoch - 19ms/step\n",
            "Epoch 1/2\n",
            "744/744 - 98s - loss: 0.8197 - accuracy: 0.6449 - 98s/epoch - 132ms/step\n",
            "Epoch 2/2\n",
            "744/744 - 97s - loss: 0.6805 - accuracy: 0.7164 - 97s/epoch - 130ms/step\n",
            "186/186 - 5s - loss: 0.7430 - accuracy: 0.6810 - 5s/epoch - 25ms/step\n",
            "Epoch 1/2\n",
            "744/744 - 100s - loss: 0.8223 - accuracy: 0.6477 - 100s/epoch - 134ms/step\n",
            "Epoch 2/2\n",
            "744/744 - 96s - loss: 0.6705 - accuracy: 0.7162 - 96s/epoch - 129ms/step\n",
            "186/186 - 3s - loss: 0.7569 - accuracy: 0.6832 - 3s/epoch - 18ms/step\n",
            "Epoch 1/2\n",
            "744/744 - 99s - loss: 0.8324 - accuracy: 0.6398 - 99s/epoch - 133ms/step\n",
            "Epoch 2/2\n",
            "744/744 - 98s - loss: 0.6805 - accuracy: 0.7111 - 98s/epoch - 131ms/step\n",
            "186/186 - 3s - loss: 0.7562 - accuracy: 0.6814 - 3s/epoch - 15ms/step\n",
            "Epoch 1/2\n",
            "744/744 - 99s - loss: 0.8219 - accuracy: 0.6455 - 99s/epoch - 133ms/step\n",
            "Epoch 2/2\n",
            "744/744 - 93s - loss: 0.6675 - accuracy: 0.7190 - 93s/epoch - 126ms/step\n",
            "186/186 - 3s - loss: 0.7785 - accuracy: 0.6722 - 3s/epoch - 15ms/step\n",
            "372/372 - 58s - loss: 0.8351 - accuracy: 0.6435 - 58s/epoch - 157ms/step\n",
            "93/93 - 3s - loss: 0.7425 - accuracy: 0.6783 - 3s/epoch - 32ms/step\n",
            "372/372 - 58s - loss: 0.8327 - accuracy: 0.6431 - 58s/epoch - 155ms/step\n",
            "93/93 - 2s - loss: 0.7694 - accuracy: 0.6767 - 2s/epoch - 21ms/step\n",
            "372/372 - 56s - loss: 0.8302 - accuracy: 0.6383 - 56s/epoch - 151ms/step\n",
            "93/93 - 2s - loss: 0.8049 - accuracy: 0.6590 - 2s/epoch - 20ms/step\n",
            "372/372 - 58s - loss: 0.8302 - accuracy: 0.6383 - 58s/epoch - 156ms/step\n",
            "93/93 - 2s - loss: 0.7421 - accuracy: 0.6808 - 2s/epoch - 21ms/step\n",
            "372/372 - 55s - loss: 0.8281 - accuracy: 0.6441 - 55s/epoch - 149ms/step\n",
            "93/93 - 3s - loss: 0.7803 - accuracy: 0.6685 - 3s/epoch - 29ms/step\n",
            "Epoch 1/2\n",
            "372/372 - 56s - loss: 0.8349 - accuracy: 0.6403 - 56s/epoch - 152ms/step\n",
            "Epoch 2/2\n",
            "372/372 - 55s - loss: 0.6816 - accuracy: 0.7093 - 55s/epoch - 147ms/step\n",
            "93/93 - 2s - loss: 0.7555 - accuracy: 0.6584 - 2s/epoch - 21ms/step\n",
            "Epoch 1/2\n",
            "372/372 - 56s - loss: 0.8228 - accuracy: 0.6499 - 56s/epoch - 151ms/step\n",
            "Epoch 2/2\n",
            "372/372 - 54s - loss: 0.6904 - accuracy: 0.7049 - 54s/epoch - 145ms/step\n",
            "93/93 - 2s - loss: 0.7326 - accuracy: 0.6848 - 2s/epoch - 21ms/step\n",
            "Epoch 1/2\n",
            "372/372 - 56s - loss: 0.8297 - accuracy: 0.6415 - 56s/epoch - 150ms/step\n",
            "Epoch 2/2\n",
            "372/372 - 54s - loss: 0.6786 - accuracy: 0.7112 - 54s/epoch - 144ms/step\n",
            "93/93 - 2s - loss: 0.7531 - accuracy: 0.6864 - 2s/epoch - 20ms/step\n",
            "Epoch 1/2\n",
            "372/372 - 58s - loss: 0.8338 - accuracy: 0.6424 - 58s/epoch - 157ms/step\n",
            "Epoch 2/2\n",
            "372/372 - 52s - loss: 0.6797 - accuracy: 0.7080 - 52s/epoch - 141ms/step\n",
            "93/93 - 2s - loss: 0.7595 - accuracy: 0.6738 - 2s/epoch - 21ms/step\n",
            "Epoch 1/2\n",
            "372/372 - 56s - loss: 0.8290 - accuracy: 0.6461 - 56s/epoch - 150ms/step\n",
            "Epoch 2/2\n",
            "372/372 - 56s - loss: 0.6655 - accuracy: 0.7159 - 56s/epoch - 151ms/step\n",
            "93/93 - 2s - loss: 0.7931 - accuracy: 0.6663 - 2s/epoch - 20ms/step\n",
            "186/186 - 37s - loss: 0.8508 - accuracy: 0.6345 - 37s/epoch - 200ms/step\n",
            "47/47 - 1s - loss: 0.7580 - accuracy: 0.6719 - 1s/epoch - 30ms/step\n",
            "186/186 - 37s - loss: 0.8390 - accuracy: 0.6430 - 37s/epoch - 200ms/step\n",
            "47/47 - 1s - loss: 0.7888 - accuracy: 0.6735 - 1s/epoch - 29ms/step\n",
            "186/186 - 37s - loss: 0.8537 - accuracy: 0.6318 - 37s/epoch - 201ms/step\n",
            "47/47 - 1s - loss: 0.7719 - accuracy: 0.6880 - 1s/epoch - 29ms/step\n",
            "186/186 - 34s - loss: 0.8491 - accuracy: 0.6342 - 34s/epoch - 185ms/step\n",
            "47/47 - 2s - loss: 0.7701 - accuracy: 0.6625 - 2s/epoch - 46ms/step\n",
            "186/186 - 35s - loss: 0.8370 - accuracy: 0.6397 - 35s/epoch - 189ms/step\n",
            "47/47 - 1s - loss: 0.7756 - accuracy: 0.6674 - 1s/epoch - 29ms/step\n",
            "Epoch 1/2\n",
            "186/186 - 35s - loss: 0.8433 - accuracy: 0.6375 - 35s/epoch - 191ms/step\n",
            "Epoch 2/2\n",
            "186/186 - 31s - loss: 0.6836 - accuracy: 0.7073 - 31s/epoch - 167ms/step\n",
            "47/47 - 1s - loss: 0.7440 - accuracy: 0.6853 - 1s/epoch - 28ms/step\n",
            "Epoch 1/2\n",
            "186/186 - 37s - loss: 0.8315 - accuracy: 0.6380 - 37s/epoch - 199ms/step\n",
            "Epoch 2/2\n",
            "186/186 - 30s - loss: 0.6887 - accuracy: 0.7073 - 30s/epoch - 164ms/step\n",
            "47/47 - 1s - loss: 0.7674 - accuracy: 0.6762 - 1s/epoch - 29ms/step\n",
            "Epoch 1/2\n",
            "186/186 - 37s - loss: 0.8501 - accuracy: 0.6310 - 37s/epoch - 200ms/step\n",
            "Epoch 2/2\n",
            "186/186 - 31s - loss: 0.6896 - accuracy: 0.7015 - 31s/epoch - 167ms/step\n",
            "47/47 - 1s - loss: 0.7657 - accuracy: 0.6848 - 1s/epoch - 29ms/step\n",
            "Epoch 1/2\n",
            "186/186 - 36s - loss: 0.8443 - accuracy: 0.6377 - 36s/epoch - 194ms/step\n",
            "Epoch 2/2\n",
            "186/186 - 33s - loss: 0.6894 - accuracy: 0.7077 - 33s/epoch - 178ms/step\n",
            "47/47 - 1s - loss: 0.8050 - accuracy: 0.6738 - 1s/epoch - 29ms/step\n",
            "Epoch 1/2\n",
            "186/186 - 34s - loss: 0.8425 - accuracy: 0.6354 - 34s/epoch - 185ms/step\n",
            "Epoch 2/2\n",
            "186/186 - 33s - loss: 0.6834 - accuracy: 0.7042 - 33s/epoch - 175ms/step\n",
            "47/47 - 1s - loss: 0.7646 - accuracy: 0.6738 - 1s/epoch - 29ms/step\n",
            "Epoch 1/2\n",
            "930/930 - 130s - loss: 0.8138 - accuracy: 0.6543 - 130s/epoch - 140ms/step\n",
            "Epoch 2/2\n",
            "930/930 - 116s - loss: 0.6786 - accuracy: 0.7152 - 116s/epoch - 125ms/step\n",
            "Best: 0.680511 using {'batch_size': 10, 'epochs': 2}\n"
          ]
        }
      ],
      "source": [
        "from keras.wrappers.scikit_learn import KerasClassifier #importing Keras classifier\n",
        "from sklearn.model_selection import GridSearchCV #importing Grid search CV\n",
        "\n",
        "model = KerasClassifier(build_fn=createmodel,verbose=2) #initiating model to test performance by applying multiple hyper parameters\n",
        "batch_size= [10, 20, 40] #hyper parameter batch_size\n",
        "epochs = [1, 2] #hyper parameter no. of epochs\n",
        "param_grid= {'batch_size':batch_size, 'epochs':epochs} #creating dictionary for batch size, no. of epochs\n",
        "grid  = GridSearchCV(estimator=model, param_grid=param_grid) #Applying dictionary with hyper parameters\n",
        "grid_result= grid.fit(X_train,Y_train) #Fitting the model\n",
        "# summarize results\n",
        "print(\"Best: %f using %s\" % (grid_result.best_score_, grid_result.best_params_)) #best score, best hyper parameters"
      ]
    }
  ],
  "metadata": {
    "colab": {
      "provenance": []
    },
    "kernelspec": {
      "display_name": "Python 3",
      "name": "python3"
    },
    "language_info": {
      "name": "python"
    }
  },
  "nbformat": 4,
  "nbformat_minor": 0
}